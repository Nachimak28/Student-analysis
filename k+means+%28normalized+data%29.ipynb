{
 "cells": [
  {
   "cell_type": "code",
   "execution_count": 84,
   "metadata": {
    "collapsed": true
   },
   "outputs": [],
   "source": [
    "import csv\n",
    "import numpy as np\n",
    "import statistics as st\n",
    "import matplotlib.pyplot as plt                                #importing matplotlib for plotting graphs\n",
    "from matplotlib import style\n",
    "style.use(\"ggplot\")\n",
    "%matplotlib inline\n",
    "from sklearn.cluster import DBSCAN\n",
    "from sklearn.cluster import KMeans"
   ]
  },
  {
   "cell_type": "code",
   "execution_count": 37,
   "metadata": {
    "collapsed": true
   },
   "outputs": [],
   "source": [
    "data = []\n",
    "def read_csv_file(filename):\n",
    "    f = open(filename)\n",
    "    for row in csv.reader(f):\n",
    "        data.append(row)\n",
    "    print(data)\n",
    "    f.close()"
   ]
  },
  {
   "cell_type": "code",
   "execution_count": 38,
   "metadata": {},
   "outputs": [
    {
     "name": "stdout",
     "output_type": "stream",
     "text": [
      "[['73', '17'], ['73', '17'], ['80', '18'], ['87', '13'], ['73', '12'], ['67', '9'], ['80', '10'], ['100', '20'], ['80', '17'], ['80', '14'], ['87', '17'], ['53', '11'], ['93', '16'], ['27', '9'], ['93', '17'], ['73', '9'], ['100', '17'], ['93', '14'], ['87', '10'], ['93', '17'], ['93', '13'], ['100', '19'], ['87', '13'], ['93', '13'], ['60', '0'], ['67', '11'], ['67', '16'], ['100', '16'], ['60', '16'], ['93', '14'], ['100', '18'], ['87', '16'], ['73', '11'], ['100', '17'], ['27', '0'], ['93', '19'], ['80', '8'], ['100', '15'], ['67', '11'], ['87', '18'], ['100', '17'], ['87', '15'], ['73', '9'], ['60', '14'], ['100', '18'], ['73', '12'], ['93', '17'], ['80', '14'], ['80', '14'], ['87', '16'], ['73', '18'], ['100', '15'], ['53', '13'], ['73', '17'], ['73', '12'], ['67', '16'], ['100', '20'], ['53', '12'], ['73', '15'], ['53', '8'], ['87', '19'], ['73', '16'], ['87', '19'], ['100', '18'], ['7', '0'], ['100', '19'], ['87', '16'], ['100', '19'], ['73', '20'], ['87', '11'], ['87', '14'], ['67', '9'], ['60', '11'], ['80', '19'], ['60', '17'], ['87', '15'], ['80', '13']]\n"
     ]
    }
   ],
   "source": [
    "read_csv_file(\"C:/Users/nachiket/Desktop/attendance research correlation/ait.csv\")"
   ]
  },
  {
   "cell_type": "code",
   "execution_count": 39,
   "metadata": {},
   "outputs": [
    {
     "name": "stdout",
     "output_type": "stream",
     "text": [
      "[['73', '17'], ['73', '17'], ['80', '18'], ['87', '13'], ['73', '12'], ['67', '9'], ['80', '10'], ['100', '20'], ['80', '17'], ['80', '14'], ['87', '17'], ['53', '11'], ['93', '16'], ['27', '9'], ['93', '17'], ['73', '9'], ['100', '17'], ['93', '14'], ['87', '10'], ['93', '17'], ['93', '13'], ['100', '19'], ['87', '13'], ['93', '13'], ['60', '0'], ['67', '11'], ['67', '16'], ['100', '16'], ['60', '16'], ['93', '14'], ['100', '18'], ['87', '16'], ['73', '11'], ['100', '17'], ['27', '0'], ['93', '19'], ['80', '8'], ['100', '15'], ['67', '11'], ['87', '18'], ['100', '17'], ['87', '15'], ['73', '9'], ['60', '14'], ['100', '18'], ['73', '12'], ['93', '17'], ['80', '14'], ['80', '14'], ['87', '16'], ['73', '18'], ['100', '15'], ['53', '13'], ['73', '17'], ['73', '12'], ['67', '16'], ['100', '20'], ['53', '12'], ['73', '15'], ['53', '8'], ['87', '19'], ['73', '16'], ['87', '19'], ['100', '18'], ['7', '0'], ['100', '19'], ['87', '16'], ['100', '19'], ['73', '20'], ['87', '11'], ['87', '14'], ['67', '9'], ['60', '11'], ['80', '19'], ['60', '17'], ['87', '15'], ['80', '13']]\n",
      "77\n"
     ]
    }
   ],
   "source": [
    "print(data)\n",
    "print(len(data))\n"
   ]
  },
  {
   "cell_type": "code",
   "execution_count": 70,
   "metadata": {},
   "outputs": [
    {
     "name": "stdout",
     "output_type": "stream",
     "text": [
      "[73.0, 73.0, 80.0, 87.0, 73.0, 67.0, 80.0, 100.0, 80.0, 80.0, 87.0, 53.0, 93.0, 27.0, 93.0, 73.0, 100.0, 93.0, 87.0, 93.0, 93.0, 100.0, 87.0, 93.0, 60.0, 67.0, 67.0, 100.0, 60.0, 93.0, 100.0, 87.0, 73.0, 100.0, 27.0, 93.0, 80.0, 100.0, 67.0, 87.0, 100.0, 87.0, 73.0, 60.0, 100.0, 73.0, 93.0, 80.0, 80.0, 87.0, 73.0, 100.0, 53.0, 73.0, 73.0, 67.0, 100.0, 53.0, 73.0, 53.0, 87.0, 73.0, 87.0, 100.0, 7.0, 100.0, 87.0, 100.0, 73.0, 87.0, 87.0, 67.0, 60.0, 80.0, 60.0, 87.0, 80.0]\n",
      "[17.0, 17.0, 18.0, 13.0, 12.0, 9.0, 10.0, 20.0, 17.0, 14.0, 17.0, 11.0, 16.0, 9.0, 17.0, 9.0, 17.0, 14.0, 10.0, 17.0, 13.0, 19.0, 13.0, 13.0, 0.0, 11.0, 16.0, 16.0, 16.0, 14.0, 18.0, 16.0, 11.0, 17.0, 0.0, 19.0, 8.0, 15.0, 11.0, 18.0, 17.0, 15.0, 9.0, 14.0, 18.0, 12.0, 17.0, 14.0, 14.0, 16.0, 18.0, 15.0, 13.0, 17.0, 12.0, 16.0, 20.0, 12.0, 15.0, 8.0, 19.0, 16.0, 19.0, 18.0, 0.0, 19.0, 16.0, 19.0, 20.0, 11.0, 14.0, 9.0, 11.0, 19.0, 17.0, 15.0, 13.0]\n",
      "77\n",
      "77\n"
     ]
    }
   ],
   "source": [
    "#make separate lists for attendance and marks\n",
    "x = []\n",
    "y = []\n",
    "def make_separate_lists(data):\n",
    "    for row in range(len(data)):\n",
    "        x.append(float(data[row][0]))\n",
    "        y.append(float(data[row][1]))\n",
    "    print(x)\n",
    "    print(y)\n",
    "\n",
    "    \n",
    "make_separate_lists(data)\n",
    "print(len(x))\n",
    "print(len(y))"
   ]
  },
  {
   "cell_type": "code",
   "execution_count": 79,
   "metadata": {},
   "outputs": [
    {
     "name": "stdout",
     "output_type": "stream",
     "text": [
      "[[-0.06675045384722807, 0.13896103896103895], [-0.06675045384722807, 0.13896103896103895], [0.008518363357073015, 0.18896103896103894], [0.08378718056137409, -0.061038961038961045], [-0.06675045384722807, -0.11103896103896105], [-0.13126658287948612, -0.26103896103896107], [0.008518363357073015, -0.21103896103896105], [0.22357212679793323, 0.288961038961039], [0.008518363357073015, 0.13896103896103895], [0.008518363357073015, -0.011038961038961048], [0.08378718056137409, 0.13896103896103895], [-0.2818042172880883, -0.16103896103896104], [0.14830330959363217, 0.08896103896103895], [-0.5613741097612066, -0.26103896103896107], [0.14830330959363217, 0.13896103896103895], [-0.06675045384722807, -0.26103896103896107], [0.22357212679793323, 0.13896103896103895], [0.14830330959363217, -0.011038961038961048], [0.08378718056137409, -0.21103896103896105], [0.14830330959363217, 0.13896103896103895], [0.14830330959363217, -0.061038961038961045], [0.22357212679793323, 0.23896103896103896], [0.08378718056137409, -0.061038961038961045], [0.14830330959363217, -0.061038961038961045], [-0.2065354000837872, -0.711038961038961], [-0.13126658287948612, -0.16103896103896104], [-0.13126658287948612, 0.08896103896103895], [0.22357212679793323, 0.08896103896103895], [-0.2065354000837872, 0.08896103896103895], [0.14830330959363217, -0.011038961038961048], [0.22357212679793323, 0.18896103896103894], [0.08378718056137409, 0.08896103896103895], [-0.06675045384722807, -0.16103896103896104], [0.22357212679793323, 0.13896103896103895], [-0.5613741097612066, -0.711038961038961], [0.14830330959363217, 0.23896103896103896], [0.008518363357073015, -0.31103896103896106], [0.22357212679793323, 0.03896103896103895], [-0.13126658287948612, -0.16103896103896104], [0.08378718056137409, 0.18896103896103894], [0.22357212679793323, 0.13896103896103895], [0.08378718056137409, 0.03896103896103895], [-0.06675045384722807, -0.26103896103896107], [-0.2065354000837872, -0.011038961038961048], [0.22357212679793323, 0.18896103896103894], [-0.06675045384722807, -0.11103896103896105], [0.14830330959363217, 0.13896103896103895], [0.008518363357073015, -0.011038961038961048], [0.008518363357073015, -0.011038961038961048], [0.08378718056137409, 0.08896103896103895], [-0.06675045384722807, 0.18896103896103894], [0.22357212679793323, 0.03896103896103895], [-0.2818042172880883, -0.061038961038961045], [-0.06675045384722807, 0.13896103896103895], [-0.06675045384722807, -0.11103896103896105], [-0.13126658287948612, 0.08896103896103895], [0.22357212679793323, 0.288961038961039], [-0.2818042172880883, -0.11103896103896105], [-0.06675045384722807, 0.03896103896103895], [-0.2818042172880883, -0.31103896103896106], [0.08378718056137409, 0.23896103896103896], [-0.06675045384722807, 0.08896103896103895], [0.08378718056137409, 0.23896103896103896], [0.22357212679793323, 0.18896103896103894], [-0.7764278732020667, -0.711038961038961], [0.22357212679793323, 0.23896103896103896], [0.08378718056137409, 0.08896103896103895], [0.22357212679793323, 0.23896103896103896], [-0.06675045384722807, 0.288961038961039], [0.08378718056137409, -0.16103896103896104], [0.08378718056137409, -0.011038961038961048], [-0.13126658287948612, -0.26103896103896107], [-0.2065354000837872, -0.16103896103896104], [0.008518363357073015, 0.23896103896103896], [-0.2065354000837872, 0.13896103896103895], [0.08378718056137409, 0.03896103896103895], [0.008518363357073015, -0.061038961038961045]]\n"
     ]
    }
   ],
   "source": [
    "#normalization new_element = (element-mean)/range(max-min)\n",
    "p = []\n",
    "q = []\n",
    "def normalization(x,y):\n",
    "    xbar = st.mean(x)\n",
    "    sx = max(x)-min(x)\n",
    "    ybar = st.mean(y)\n",
    "    sy = max(y)-min(y)\n",
    "    for i in range(len(x)):\n",
    "        data[i][0] = (x[i] - xbar)/sx\n",
    "        data[i][1] = (y[i] - ybar)/sy\n",
    "    print(data)\n",
    "    #print(p)\n",
    "    #print(\"\\n\")\n",
    "    #print(q)\n",
    "\n",
    "normalization(x,y) "
   ]
  },
  {
   "cell_type": "code",
   "execution_count": 80,
   "metadata": {},
   "outputs": [
    {
     "name": "stdout",
     "output_type": "stream",
     "text": [
      "[[-0.06675045  0.13896104]\n",
      " [-0.06675045  0.13896104]\n",
      " [ 0.00851836  0.18896104]\n",
      " [ 0.08378718 -0.06103896]\n",
      " [-0.06675045 -0.11103896]\n",
      " [-0.13126658 -0.26103896]\n",
      " [ 0.00851836 -0.21103896]\n",
      " [ 0.22357213  0.28896104]\n",
      " [ 0.00851836  0.13896104]\n",
      " [ 0.00851836 -0.01103896]\n",
      " [ 0.08378718  0.13896104]\n",
      " [-0.28180422 -0.16103896]\n",
      " [ 0.14830331  0.08896104]\n",
      " [-0.56137411 -0.26103896]\n",
      " [ 0.14830331  0.13896104]\n",
      " [-0.06675045 -0.26103896]\n",
      " [ 0.22357213  0.13896104]\n",
      " [ 0.14830331 -0.01103896]\n",
      " [ 0.08378718 -0.21103896]\n",
      " [ 0.14830331  0.13896104]\n",
      " [ 0.14830331 -0.06103896]\n",
      " [ 0.22357213  0.23896104]\n",
      " [ 0.08378718 -0.06103896]\n",
      " [ 0.14830331 -0.06103896]\n",
      " [-0.2065354  -0.71103896]\n",
      " [-0.13126658 -0.16103896]\n",
      " [-0.13126658  0.08896104]\n",
      " [ 0.22357213  0.08896104]\n",
      " [-0.2065354   0.08896104]\n",
      " [ 0.14830331 -0.01103896]\n",
      " [ 0.22357213  0.18896104]\n",
      " [ 0.08378718  0.08896104]\n",
      " [-0.06675045 -0.16103896]\n",
      " [ 0.22357213  0.13896104]\n",
      " [-0.56137411 -0.71103896]\n",
      " [ 0.14830331  0.23896104]\n",
      " [ 0.00851836 -0.31103896]\n",
      " [ 0.22357213  0.03896104]\n",
      " [-0.13126658 -0.16103896]\n",
      " [ 0.08378718  0.18896104]\n",
      " [ 0.22357213  0.13896104]\n",
      " [ 0.08378718  0.03896104]\n",
      " [-0.06675045 -0.26103896]\n",
      " [-0.2065354  -0.01103896]\n",
      " [ 0.22357213  0.18896104]\n",
      " [-0.06675045 -0.11103896]\n",
      " [ 0.14830331  0.13896104]\n",
      " [ 0.00851836 -0.01103896]\n",
      " [ 0.00851836 -0.01103896]\n",
      " [ 0.08378718  0.08896104]\n",
      " [-0.06675045  0.18896104]\n",
      " [ 0.22357213  0.03896104]\n",
      " [-0.28180422 -0.06103896]\n",
      " [-0.06675045  0.13896104]\n",
      " [-0.06675045 -0.11103896]\n",
      " [-0.13126658  0.08896104]\n",
      " [ 0.22357213  0.28896104]\n",
      " [-0.28180422 -0.11103896]\n",
      " [-0.06675045  0.03896104]\n",
      " [-0.28180422 -0.31103896]\n",
      " [ 0.08378718  0.23896104]\n",
      " [-0.06675045  0.08896104]\n",
      " [ 0.08378718  0.23896104]\n",
      " [ 0.22357213  0.18896104]\n",
      " [-0.77642787 -0.71103896]\n",
      " [ 0.22357213  0.23896104]\n",
      " [ 0.08378718  0.08896104]\n",
      " [ 0.22357213  0.23896104]\n",
      " [-0.06675045  0.28896104]\n",
      " [ 0.08378718 -0.16103896]\n",
      " [ 0.08378718 -0.01103896]\n",
      " [-0.13126658 -0.26103896]\n",
      " [-0.2065354  -0.16103896]\n",
      " [ 0.00851836  0.23896104]\n",
      " [-0.2065354   0.13896104]\n",
      " [ 0.08378718  0.03896104]\n",
      " [ 0.00851836 -0.06103896]]\n"
     ]
    }
   ],
   "source": [
    "X = np.array(data)\n",
    "print(X)"
   ]
  },
  {
   "cell_type": "code",
   "execution_count": 81,
   "metadata": {},
   "outputs": [
    {
     "data": {
      "image/png": "[encoded data removed]",
      "text/plain": [
       "<matplotlib.figure.Figure at 0x1fbe610ef60>"
      ]
     },
     "metadata": {},
     "output_type": "display_data"
    }
   ],
   "source": [
    "plt.scatter(X[:,0],X[:,1])\n",
    "plt.show()"
   ]
  },
  {
   "cell_type": "code",
   "execution_count": null,
   "metadata": {},
   "outputs": [],
   "source": []
  },
  {
   "cell_type": "code",
   "execution_count": null,
   "metadata": {},
   "outputs": [],
   "source": []
  },
  {
   "cell_type": "code",
   "execution_count": null,
   "metadata": {},
   "outputs": [],
   "source": []
  },
  {
   "cell_type": "code",
   "execution_count": 89,
   "metadata": {},
   "outputs": [
    {
     "data": {
      "text/plain": [
       "KMeans(algorithm='auto', copy_x=True, init='k-means++', max_iter=300,\n",
       "    n_clusters=4, n_init=10, n_jobs=1, precompute_distances='auto',\n",
       "    random_state=None, tol=0.0001, verbose=0)"
      ]
     },
     "execution_count": 89,
     "metadata": {},
     "output_type": "execute_result"
    }
   ],
   "source": [
    "km = KMeans(n_clusters=4)\n",
    "km.fit(X)\n"
   ]
  },
  {
   "cell_type": "code",
   "execution_count": 90,
   "metadata": {},
   "outputs": [
    {
     "name": "stdout",
     "output_type": "stream",
     "text": [
      "[[ 0.15629102  0.1161039 ]\n",
      " [-0.10330959 -0.18103896]\n",
      " [-0.52642787 -0.59853896]\n",
      " [-0.0721268   0.10840548]]\n",
      "[3 3 3 0 1 1 1 0 3 3 0 1 0 2 0 1 0 0 1 0 0 0 0 0 2 1 3 0 3 0 0 0 1 0 2 0 1\n",
      " 0 1 0 0 0 1 3 0 1 0 3 3 0 3 0 1 3 1 3 0 1 3 1 0 3 0 0 2 0 0 0 3 1 0 1 1 3\n",
      " 3 0 1]\n"
     ]
    }
   ],
   "source": [
    "centroids = km.cluster_centers_\n",
    "labels = km.labels_\n",
    "print(centroids)\n",
    "print(labels)"
   ]
  },
  {
   "cell_type": "code",
   "execution_count": 91,
   "metadata": {},
   "outputs": [
    {
     "name": "stdout",
     "output_type": "stream",
     "text": [
      "coordinate: [-0.06675045  0.13896104] label: 3\n",
      "coordinate: [-0.06675045  0.13896104] label: 3\n",
      "coordinate: [ 0.00851836  0.18896104] label: 3\n",
      "coordinate: [ 0.08378718 -0.06103896] label: 0\n",
      "coordinate: [-0.06675045 -0.11103896] label: 1\n",
      "coordinate: [-0.13126658 -0.26103896] label: 1\n",
      "coordinate: [ 0.00851836 -0.21103896] label: 1\n",
      "coordinate: [ 0.22357213  0.28896104] label: 0\n",
      "coordinate: [ 0.00851836  0.13896104] label: 3\n",
      "coordinate: [ 0.00851836 -0.01103896] label: 3\n",
      "coordinate: [ 0.08378718  0.13896104] label: 0\n",
      "coordinate: [-0.28180422 -0.16103896] label: 1\n",
      "coordinate: [ 0.14830331  0.08896104] label: 0\n",
      "coordinate: [-0.56137411 -0.26103896] label: 2\n",
      "coordinate: [ 0.14830331  0.13896104] label: 0\n",
      "coordinate: [-0.06675045 -0.26103896] label: 1\n",
      "coordinate: [ 0.22357213  0.13896104] label: 0\n",
      "coordinate: [ 0.14830331 -0.01103896] label: 0\n",
      "coordinate: [ 0.08378718 -0.21103896] label: 1\n",
      "coordinate: [ 0.14830331  0.13896104] label: 0\n",
      "coordinate: [ 0.14830331 -0.06103896] label: 0\n",
      "coordinate: [ 0.22357213  0.23896104] label: 0\n",
      "coordinate: [ 0.08378718 -0.06103896] label: 0\n",
      "coordinate: [ 0.14830331 -0.06103896] label: 0\n",
      "coordinate: [-0.2065354  -0.71103896] label: 2\n",
      "coordinate: [-0.13126658 -0.16103896] label: 1\n",
      "coordinate: [-0.13126658  0.08896104] label: 3\n",
      "coordinate: [ 0.22357213  0.08896104] label: 0\n",
      "coordinate: [-0.2065354   0.08896104] label: 3\n",
      "coordinate: [ 0.14830331 -0.01103896] label: 0\n",
      "coordinate: [ 0.22357213  0.18896104] label: 0\n",
      "coordinate: [ 0.08378718  0.08896104] label: 0\n",
      "coordinate: [-0.06675045 -0.16103896] label: 1\n",
      "coordinate: [ 0.22357213  0.13896104] label: 0\n",
      "coordinate: [-0.56137411 -0.71103896] label: 2\n",
      "coordinate: [ 0.14830331  0.23896104] label: 0\n",
      "coordinate: [ 0.00851836 -0.31103896] label: 1\n",
      "coordinate: [ 0.22357213  0.03896104] label: 0\n",
      "coordinate: [-0.13126658 -0.16103896] label: 1\n",
      "coordinate: [ 0.08378718  0.18896104] label: 0\n",
      "coordinate: [ 0.22357213  0.13896104] label: 0\n",
      "coordinate: [ 0.08378718  0.03896104] label: 0\n",
      "coordinate: [-0.06675045 -0.26103896] label: 1\n",
      "coordinate: [-0.2065354  -0.01103896] label: 3\n",
      "coordinate: [ 0.22357213  0.18896104] label: 0\n",
      "coordinate: [-0.06675045 -0.11103896] label: 1\n",
      "coordinate: [ 0.14830331  0.13896104] label: 0\n",
      "coordinate: [ 0.00851836 -0.01103896] label: 3\n",
      "coordinate: [ 0.00851836 -0.01103896] label: 3\n",
      "coordinate: [ 0.08378718  0.08896104] label: 0\n",
      "coordinate: [-0.06675045  0.18896104] label: 3\n",
      "coordinate: [ 0.22357213  0.03896104] label: 0\n",
      "coordinate: [-0.28180422 -0.06103896] label: 1\n",
      "coordinate: [-0.06675045  0.13896104] label: 3\n",
      "coordinate: [-0.06675045 -0.11103896] label: 1\n",
      "coordinate: [-0.13126658  0.08896104] label: 3\n",
      "coordinate: [ 0.22357213  0.28896104] label: 0\n",
      "coordinate: [-0.28180422 -0.11103896] label: 1\n",
      "coordinate: [-0.06675045  0.03896104] label: 3\n",
      "coordinate: [-0.28180422 -0.31103896] label: 1\n",
      "coordinate: [ 0.08378718  0.23896104] label: 0\n",
      "coordinate: [-0.06675045  0.08896104] label: 3\n",
      "coordinate: [ 0.08378718  0.23896104] label: 0\n",
      "coordinate: [ 0.22357213  0.18896104] label: 0\n",
      "coordinate: [-0.77642787 -0.71103896] label: 2\n",
      "coordinate: [ 0.22357213  0.23896104] label: 0\n",
      "coordinate: [ 0.08378718  0.08896104] label: 0\n",
      "coordinate: [ 0.22357213  0.23896104] label: 0\n",
      "coordinate: [-0.06675045  0.28896104] label: 3\n",
      "coordinate: [ 0.08378718 -0.16103896] label: 1\n",
      "coordinate: [ 0.08378718 -0.01103896] label: 0\n",
      "coordinate: [-0.13126658 -0.26103896] label: 1\n",
      "coordinate: [-0.2065354  -0.16103896] label: 1\n",
      "coordinate: [ 0.00851836  0.23896104] label: 3\n",
      "coordinate: [-0.2065354   0.13896104] label: 3\n",
      "coordinate: [ 0.08378718  0.03896104] label: 0\n",
      "coordinate: [ 0.00851836 -0.06103896] label: 1\n"
     ]
    },
    {
     "data": {
      "image/png": "[encoded data removed]",
      "text/plain": [
       "<matplotlib.figure.Figure at 0x1fbe5b8ca20>"
      ]
     },
     "metadata": {},
     "output_type": "display_data"
    }
   ],
   "source": [
    "colors = 10*['r.','g.','b.','c.','k.','y.','m.']\n",
    "\n",
    "for i in range(len(X)):\n",
    "    print(\"coordinate:\",X[i],\"label:\",labels[i])\n",
    "    plt.plot(X[i][0], X[i][1], colors[labels[i]], markersize = 10)\n",
    "    \n",
    "plt.scatter(centroids[:, 0], centroids[:, 1], marker = 'x', s = 150, linewidths = 5, zorder = 10)\n",
    "plt.show()"
   ]
  },
  {
   "cell_type": "code",
   "execution_count": null,
   "metadata": {
    "collapsed": true
   },
   "outputs": [],
   "source": []
  }
 ],
 "metadata": {
  "kernelspec": {
   "display_name": "Python 3",
   "language": "python",
   "name": "python3"
  },
  "language_info": {
   "codemirror_mode": {
    "name": "ipython",
    "version": 3
   },
   "file_extension": ".py",
   "mimetype": "text/x-python",
   "name": "python",
   "nbconvert_exporter": "python",
   "pygments_lexer": "ipython3",
   "version": "3.5.2"
  }
 },
 "nbformat": 4,
 "nbformat_minor": 2
}
