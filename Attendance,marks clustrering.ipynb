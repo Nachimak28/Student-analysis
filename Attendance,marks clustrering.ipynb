{
 "cells": [
  {
   "cell_type": "code",
   "execution_count": 99,
   "metadata": {
    "collapsed": true
   },
   "outputs": [],
   "source": [
    "import csv\n",
    "import numpy as np\n",
    "import statistics as st\n",
    "import matplotlib.pyplot as plt                                #importing matplotlib for plotting graphs\n",
    "from matplotlib import style\n",
    "style.use(\"ggplot\")\n",
    "%matplotlib inline\n",
    "from sklearn.cluster import KMeans"
   ]
  },
  {
   "cell_type": "code",
   "execution_count": 85,
   "metadata": {
    "collapsed": true
   },
   "outputs": [],
   "source": [
    "data = []\n",
    "def read_csv_file(filename):\n",
    "    f = open(filename)\n",
    "    for row in csv.reader(f):\n",
    "        data.append(row)\n",
    "    print(data)\n",
    "    f.close()"
   ]
  },
  {
   "cell_type": "code",
   "execution_count": 86,
   "metadata": {
    "collapsed": true
   },
   "outputs": [
    {
     "name": "stdout",
     "output_type": "stream",
     "text": [
      "[['73', '17'], ['73', '17'], ['80', '18'], ['87', '13'], ['73', '12'], ['67', '9'], ['80', '10'], ['100', '20'], ['80', '17'], ['80', '14'], ['87', '17'], ['53', '11'], ['93', '16'], ['27', '9'], ['93', '17'], ['73', '9'], ['100', '17'], ['93', '14'], ['87', '10'], ['93', '17'], ['93', '13'], ['100', '19'], ['87', '13'], ['93', '13'], ['60', '0'], ['67', '11'], ['67', '16'], ['100', '16'], ['60', '16'], ['93', '14'], ['100', '18'], ['87', '16'], ['73', '11'], ['100', '17'], ['27', '0'], ['93', '19'], ['80', '8'], ['100', '15'], ['67', '11'], ['87', '18'], ['100', '17'], ['87', '15'], ['73', '9'], ['60', '14'], ['100', '18'], ['73', '12'], ['93', '17'], ['80', '14'], ['80', '14'], ['87', '16'], ['73', '18'], ['100', '15'], ['53', '13'], ['73', '17'], ['73', '12'], ['67', '16'], ['100', '20'], ['53', '12'], ['73', '15'], ['53', '8'], ['87', '19'], ['73', '16'], ['87', '19'], ['100', '18'], ['7', '0'], ['100', '19'], ['87', '16'], ['100', '19'], ['73', '20'], ['87', '11'], ['87', '14'], ['67', '9'], ['60', '11'], ['80', '19'], ['60', '17'], ['87', '15'], ['80', '13']]\n"
     ]
    }
   ],
   "source": [
    "read_csv_file(\"C:/Users/nachiket/Desktop/attendance research correlation/ait.csv\")"
   ]
  },
  {
   "cell_type": "code",
   "execution_count": 87,
   "metadata": {
    "collapsed": true
   },
   "outputs": [
    {
     "name": "stdout",
     "output_type": "stream",
     "text": [
      "[['73', '17'], ['73', '17'], ['80', '18'], ['87', '13'], ['73', '12'], ['67', '9'], ['80', '10'], ['100', '20'], ['80', '17'], ['80', '14'], ['87', '17'], ['53', '11'], ['93', '16'], ['27', '9'], ['93', '17'], ['73', '9'], ['100', '17'], ['93', '14'], ['87', '10'], ['93', '17'], ['93', '13'], ['100', '19'], ['87', '13'], ['93', '13'], ['60', '0'], ['67', '11'], ['67', '16'], ['100', '16'], ['60', '16'], ['93', '14'], ['100', '18'], ['87', '16'], ['73', '11'], ['100', '17'], ['27', '0'], ['93', '19'], ['80', '8'], ['100', '15'], ['67', '11'], ['87', '18'], ['100', '17'], ['87', '15'], ['73', '9'], ['60', '14'], ['100', '18'], ['73', '12'], ['93', '17'], ['80', '14'], ['80', '14'], ['87', '16'], ['73', '18'], ['100', '15'], ['53', '13'], ['73', '17'], ['73', '12'], ['67', '16'], ['100', '20'], ['53', '12'], ['73', '15'], ['53', '8'], ['87', '19'], ['73', '16'], ['87', '19'], ['100', '18'], ['7', '0'], ['100', '19'], ['87', '16'], ['100', '19'], ['73', '20'], ['87', '11'], ['87', '14'], ['67', '9'], ['60', '11'], ['80', '19'], ['60', '17'], ['87', '15'], ['80', '13']]\n",
      "77\n"
     ]
    }
   ],
   "source": [
    "print(data)\n",
    "print(len(data))"
   ]
  },
  {
   "cell_type": "code",
   "execution_count": 88,
   "metadata": {
    "collapsed": true
   },
   "outputs": [],
   "source": [
    "#declaring lists\n",
    "x = []\n",
    "y = []\n",
    "p = []\n",
    "q = []\n"
   ]
  },
  {
   "cell_type": "code",
   "execution_count": 89,
   "metadata": {
    "collapsed": true
   },
   "outputs": [
    {
     "name": "stdout",
     "output_type": "stream",
     "text": [
      "[73, 73, 80, 87, 73, 67, 80, 100, 80, 80, 87, 53, 93, 27, 93, 73, 100, 93, 87, 93, 93, 100, 87, 93, 60, 67, 67, 100, 60, 93, 100, 87, 73, 100, 27, 93, 80, 100, 67, 87, 100, 87, 73, 60, 100, 73, 93, 80, 80, 87, 73, 100, 53, 73, 73, 67, 100, 53, 73, 53, 87, 73, 87, 100, 7, 100, 87, 100, 73, 87, 87, 67, 60, 80, 60, 87, 80]\n",
      "[17, 17, 18, 13, 12, 9, 10, 20, 17, 14, 17, 11, 16, 9, 17, 9, 17, 14, 10, 17, 13, 19, 13, 13, 0, 11, 16, 16, 16, 14, 18, 16, 11, 17, 0, 19, 8, 15, 11, 18, 17, 15, 9, 14, 18, 12, 17, 14, 14, 16, 18, 15, 13, 17, 12, 16, 20, 12, 15, 8, 19, 16, 19, 18, 0, 19, 16, 19, 20, 11, 14, 9, 11, 19, 17, 15, 13]\n",
      "77\n"
     ]
    }
   ],
   "source": [
    "#make separate lists for attendance and marks\n",
    "def make_separate_lists(data):\n",
    "    for row in range(len(data)):\n",
    "        x.append(int(data[row][0]))\n",
    "        y.append(int(data[row][1]))\n",
    "    print(x)\n",
    "    print(y)\n",
    "\n",
    "    \n",
    "make_separate_lists(data)\n",
    "print(len(x))"
   ]
  },
  {
   "cell_type": "code",
   "execution_count": 74,
   "metadata": {
    "collapsed": true
   },
   "outputs": [
    {
     "name": "stdout",
     "output_type": "stream",
     "text": [
      "[ 73  73  80  87  73  67  80 100  80  80  87  53  93  27  93  73 100  93\n",
      "  87  93  93 100  87  93  60  67  67 100  60  93 100  87  73 100  27  93\n",
      "  80 100  67  87 100  87  73  60 100  73  93  80  80  87  73 100  53  73\n",
      "  73  67 100  53  73  53  87  73  87 100   7 100  87 100  73  87  87  67\n",
      "  60  80  60  87  80]\n",
      "77\n"
     ]
    }
   ],
   "source": [
    "#normalization new_element = (element-mean)/range(max-min)\n",
    "def normalization(x,y):\n",
    "    xbar = st.mean(x)\n",
    "    sx = max(x)-min(x)\n",
    "    ybar = st.mean(y)\n",
    "    sy = max(y)-min(y)\n",
    "    for i in range(len(x)):\n",
    "        xi = (x[i] - xbar)/sx\n",
    "        yi = (y[i] - ybar)/sy\n",
    "        p.append(xi)\n",
    "        q.append(yi)\n",
    "    #print(p)\n",
    "    #print(\"\\n\")\n",
    "    #print(q)\n",
    "\n",
    "normalization(x,y) \n",
    "\n",
    "at = np.array(x)\n",
    "mk = np.array(y)\n"
   ]
  },
  {
   "cell_type": "code",
   "execution_count": 90,
   "metadata": {
    "collapsed": true
   },
   "outputs": [],
   "source": [
    "#cluster based on the attendance and the marks of IAT1 into 4 cluster\n",
    "#1. low attendance, low marks\n",
    "#2. low attendance, high marks\n",
    "#3. high attendance, low marks\n",
    "#4. high attendance, high marks\n",
    "#plotting"
   ]
  },
  {
   "cell_type": "code",
   "execution_count": 91,
   "metadata": {},
   "outputs": [
    {
     "data": {
      "image/png": "[encoded data removed]",
      "text/plain": [
       "<matplotlib.figure.Figure at 0x1c9df650668>"
      ]
     },
     "metadata": {},
     "output_type": "display_data"
    },
    {
     "name": "stdout",
     "output_type": "stream",
     "text": [
      "[ 73  73  80  87  73  67  80 100  80  80  87  53  93  27  93  73 100  93\n",
      "  87  93  93 100  87  93  60  67  67 100  60  93 100  87  73 100  27  93\n",
      "  80 100  67  87 100  87  73  60 100  73  93  80  80  87  73 100  53  73\n",
      "  73  67 100  53  73  53  87  73  87 100   7 100  87 100  73  87  87  67\n",
      "  60  80  60  87  80]\n"
     ]
    }
   ],
   "source": [
    "#understanding data from histograms \n",
    "plt.hist(at,bins = [0,25,50,75,100])\n",
    "plt.title(\"Attendance\")\n",
    "plt.show()\n",
    "print(at)"
   ]
  },
  {
   "cell_type": "code",
   "execution_count": 92,
   "metadata": {},
   "outputs": [
    {
     "data": {
      "image/png": "[encoded data removed]",
      "text/plain": [
       "<matplotlib.figure.Figure at 0x1c9df825eb8>"
      ]
     },
     "metadata": {},
     "output_type": "display_data"
    },
    {
     "name": "stdout",
     "output_type": "stream",
     "text": [
      "[17 17 18 13 12  9 10 20 17 14 17 11 16  9 17  9 17 14 10 17 13 19 13 13  0\n",
      " 11 16 16 16 14 18 16 11 17  0 19  8 15 11 18 17 15  9 14 18 12 17 14 14 16\n",
      " 18 15 13 17 12 16 20 12 15  8 19 16 19 18  0 19 16 19 20 11 14  9 11 19 17\n",
      " 15 13]\n"
     ]
    }
   ],
   "source": [
    "plt.hist(mk,bins = [0,4,8,12,16,20])\n",
    "plt.title(\"Marks\")\n",
    "plt.show()\n",
    "print(mk)"
   ]
  },
  {
   "cell_type": "code",
   "execution_count": 94,
   "metadata": {},
   "outputs": [
    {
     "data": {
      "image/png": "[encoded data removed]",
      "text/plain": [
       "<matplotlib.figure.Figure at 0x1c9df5dab38>"
      ]
     },
     "metadata": {},
     "output_type": "display_data"
    }
   ],
   "source": [
    "\n",
    "plt.plot(x,y,\"ob\")\n",
    "plt.show()"
   ]
  },
  {
   "cell_type": "code",
   "execution_count": 101,
   "metadata": {},
   "outputs": [
    {
     "data": {
      "text/plain": [
       "KMeans(algorithm='auto', copy_x=True, init='k-means++', max_iter=300,\n",
       "    n_clusters=4, n_init=10, n_jobs=1, precompute_distances='auto',\n",
       "    random_state=None, tol=0.0001, verbose=0)"
      ]
     },
     "execution_count": 101,
     "metadata": {},
     "output_type": "execute_result"
    }
   ],
   "source": [
    "#k-means \n",
    "\n",
    "X = np.array(data)\n",
    "kmeans = KMeans(n_clusters = 4)\n",
    "kmeans.fit(X)\n",
    "\n"
   ]
  },
  {
   "cell_type": "code",
   "execution_count": 106,
   "metadata": {},
   "outputs": [
    {
     "name": "stdout",
     "output_type": "stream",
     "text": [
      "[[ 93.37837838  16.21621622]\n",
      " [ 60.93333333  11.6       ]\n",
      " [ 20.33333333   3.        ]\n",
      " [ 75.86363636  14.18181818]]\n",
      "[3 3 3 0 3 1 3 0 3 3 0 1 0 2 0 3 0 0 0 0 0 0 0 0 1 1 1 0 1 0 0 0 3 0 2 0 3\n",
      " 0 1 0 0 0 3 1 0 3 0 3 3 0 3 0 1 3 3 1 0 1 3 1 0 3 0 0 2 0 0 0 3 0 0 1 1 3\n",
      " 1 0 3]\n"
     ]
    }
   ],
   "source": [
    "centroids = kmeans.cluster_centers_\n",
    "labels = kmeans.labels_\n",
    "print(centroids)\n",
    "print(labels)"
   ]
  },
  {
   "cell_type": "code",
   "execution_count": 108,
   "metadata": {},
   "outputs": [
    {
     "name": "stdout",
     "output_type": "stream",
     "text": [
      "coordinate: ['73' '17'] label: 3\n",
      "coordinate: ['73' '17'] label: 3\n",
      "coordinate: ['80' '18'] label: 3\n",
      "coordinate: ['87' '13'] label: 0\n",
      "coordinate: ['73' '12'] label: 3\n",
      "coordinate: ['67' '9'] label: 1\n",
      "coordinate: ['80' '10'] label: 3\n",
      "coordinate: ['100' '20'] label: 0\n",
      "coordinate: ['80' '17'] label: 3\n",
      "coordinate: ['80' '14'] label: 3\n",
      "coordinate: ['87' '17'] label: 0\n",
      "coordinate: ['53' '11'] label: 1\n",
      "coordinate: ['93' '16'] label: 0\n",
      "coordinate: ['27' '9'] label: 2\n",
      "coordinate: ['93' '17'] label: 0\n",
      "coordinate: ['73' '9'] label: 3\n",
      "coordinate: ['100' '17'] label: 0\n",
      "coordinate: ['93' '14'] label: 0\n",
      "coordinate: ['87' '10'] label: 0\n",
      "coordinate: ['93' '17'] label: 0\n",
      "coordinate: ['93' '13'] label: 0\n",
      "coordinate: ['100' '19'] label: 0\n",
      "coordinate: ['87' '13'] label: 0\n",
      "coordinate: ['93' '13'] label: 0\n",
      "coordinate: ['60' '0'] label: 1\n",
      "coordinate: ['67' '11'] label: 1\n",
      "coordinate: ['67' '16'] label: 1\n",
      "coordinate: ['100' '16'] label: 0\n",
      "coordinate: ['60' '16'] label: 1\n",
      "coordinate: ['93' '14'] label: 0\n",
      "coordinate: ['100' '18'] label: 0\n",
      "coordinate: ['87' '16'] label: 0\n",
      "coordinate: ['73' '11'] label: 3\n",
      "coordinate: ['100' '17'] label: 0\n",
      "coordinate: ['27' '0'] label: 2\n",
      "coordinate: ['93' '19'] label: 0\n",
      "coordinate: ['80' '8'] label: 3\n",
      "coordinate: ['100' '15'] label: 0\n",
      "coordinate: ['67' '11'] label: 1\n",
      "coordinate: ['87' '18'] label: 0\n",
      "coordinate: ['100' '17'] label: 0\n",
      "coordinate: ['87' '15'] label: 0\n",
      "coordinate: ['73' '9'] label: 3\n",
      "coordinate: ['60' '14'] label: 1\n",
      "coordinate: ['100' '18'] label: 0\n",
      "coordinate: ['73' '12'] label: 3\n",
      "coordinate: ['93' '17'] label: 0\n",
      "coordinate: ['80' '14'] label: 3\n",
      "coordinate: ['80' '14'] label: 3\n",
      "coordinate: ['87' '16'] label: 0\n",
      "coordinate: ['73' '18'] label: 3\n",
      "coordinate: ['100' '15'] label: 0\n",
      "coordinate: ['53' '13'] label: 1\n",
      "coordinate: ['73' '17'] label: 3\n",
      "coordinate: ['73' '12'] label: 3\n",
      "coordinate: ['67' '16'] label: 1\n",
      "coordinate: ['100' '20'] label: 0\n",
      "coordinate: ['53' '12'] label: 1\n",
      "coordinate: ['73' '15'] label: 3\n",
      "coordinate: ['53' '8'] label: 1\n",
      "coordinate: ['87' '19'] label: 0\n",
      "coordinate: ['73' '16'] label: 3\n",
      "coordinate: ['87' '19'] label: 0\n",
      "coordinate: ['100' '18'] label: 0\n",
      "coordinate: ['7' '0'] label: 2\n",
      "coordinate: ['100' '19'] label: 0\n",
      "coordinate: ['87' '16'] label: 0\n",
      "coordinate: ['100' '19'] label: 0\n",
      "coordinate: ['73' '20'] label: 3\n",
      "coordinate: ['87' '11'] label: 0\n",
      "coordinate: ['87' '14'] label: 0\n",
      "coordinate: ['67' '9'] label: 1\n",
      "coordinate: ['60' '11'] label: 1\n",
      "coordinate: ['80' '19'] label: 3\n",
      "coordinate: ['60' '17'] label: 1\n",
      "coordinate: ['87' '15'] label: 0\n",
      "coordinate: ['80' '13'] label: 3\n"
     ]
    },
    {
     "data": {
      "image/png": "[encoded data removed]",
      "text/plain": [
       "<matplotlib.figure.Figure at 0x1c9df5daa20>"
      ]
     },
     "metadata": {},
     "output_type": "display_data"
    }
   ],
   "source": [
    "colors = [\"g.\",\"r.\",\"c.\",\"y.\"]\n",
    "\n",
    "for i in range(len(X)):\n",
    "    print(\"coordinate:\",X[i],\"label:\",labels[i])\n",
    "    plt.plot(X[i][0], X[i][1], colors[labels[i]], markersize = 10)\n",
    "    \n",
    "plt.scatter(centroids[:, 0], centroids[:, 1], marker = 'x', s = 150, linewidths = 5, zorder = 10)\n",
    "plt.show()"
   ]
  },
  {
   "cell_type": "code",
   "execution_count": null,
   "metadata": {
    "collapsed": true
   },
   "outputs": [],
   "source": []
  }
 ],
 "metadata": {
  "kernelspec": {
   "display_name": "Python 3",
   "language": "python",
   "name": "python3"
  },
  "language_info": {
   "codemirror_mode": {
    "name": "ipython",
    "version": 3
   },
   "file_extension": ".py",
   "mimetype": "text/x-python",
   "name": "python",
   "nbconvert_exporter": "python",
   "pygments_lexer": "ipython3",
   "version": "3.5.2"
  }
 },
 "nbformat": 4,
 "nbformat_minor": 2
}
